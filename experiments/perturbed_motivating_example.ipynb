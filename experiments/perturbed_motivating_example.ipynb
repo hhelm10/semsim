{
 "cells": [
  {
   "cell_type": "code",
   "execution_count": 36,
   "id": "ac0e7cba-dc69-4db9-baff-88959117cee1",
   "metadata": {},
   "outputs": [],
   "source": [
    "import numpy as np\n",
    "import matplotlib.pyplot as plt\n",
    "import pickle\n",
    "\n",
    "import transformers\n",
    "from scipy.stats import fisher_exact \n",
    "from tqdm import tqdm\n",
    "\n",
    "import os\n",
    "\n",
    "import itertools\n",
    "\n",
    "model_str = 'meta-llama/Meta-Llama-3-8B-Instruct'\n",
    "device='cuda:0'\n",
    "\n",
    "if 'pipeline' not in locals():\n",
    "    pipeline = transformers.pipeline(\n",
    "        \"text-generation\",\n",
    "        model=model_str,\n",
    "        device_map=device\n",
    "    )\n",
    "    pipeline.tokenizer.padding_side='left'\n",
    "    pipeline.tokenizer.pad_token_id = pipeline.model.config.eos_token_id if isinstance(pipeline.model.config.eos_token_id, int) else pipeline.model.config.eos_token_id[-1]\n",
    "\n",
    "    generation_kwargs = {\n",
    "        'batch_size':1000,\n",
    "        'max_new_tokens':10,\n",
    "        'eos_token_id':pipeline.tokenizer.eos_token_id,\n",
    "        'do_sample':True,\n",
    "        'temperature':1.9,\n",
    "        'num_return_sequences':1\n",
    "    }\n",
    "\n",
    "\n",
    "def get_mc_id_to_response_dict(outputs, n_mc, response_dict=None):\n",
    "    r = len(outputs) // n_mc\n",
    "\n",
    "    if not response_dict:\n",
    "        response_dict = {}\n",
    "    \n",
    "    for mc in range(n_mc):\n",
    "        if mc not in response_dict:\n",
    "            response_dict[mc] = {}\n",
    "            response_dict[mc]['yes'] = 0\n",
    "            response_dict[mc]['no'] = 0\n",
    "            response_dict[mc]['invalid'] = 0\n",
    "\n",
    "        temp_outputs = outputs[mc*r: (mc+1)*r]\n",
    "        for output in temp_outputs:\n",
    "            if 'yes' in output[0]['generated_text'][-1]['content'].lower():\n",
    "                response_dict[mc]['yes'] += 1\n",
    "            elif 'no' in output[0]['generated_text'][-1]['content'].lower():\n",
    "                response_dict[mc]['no'] += 1\n",
    "            else:\n",
    "                response_dict[mc]['invalid'] += 1       \n",
    "\n",
    "    return response_dict\n",
    "\n",
    "def get_total_count_dict(response_dict):\n",
    "    total_count_dict = {'yes': 0, 'no': 0, 'invalid': 0}\n",
    "\n",
    "    for r in response_dict:\n",
    "        for mc in response_dict[r]:\n",
    "            for response in response_dict[r][mc]:\n",
    "                total_count_dict[response] += response_dict[r][mc][response]\n",
    "\n",
    "    return total_count_dict\n",
    "\n",
    "\n",
    "def get_mc_id_to_parameter_dict(result_dict):\n",
    "    parameter_dict = {}\n",
    "    n_mc = len(result_dict)\n",
    "\n",
    "    for i in range(n_mc):\n",
    "        p = result_dict[i]['yes'] / (result_dict[i]['yes'] + result_dict[i]['no'])\n",
    "\n",
    "        parameter_dict[i] = p\n",
    "\n",
    "    return parameter_dict\n",
    "\n",
    "\n",
    "def estimate_a_b(p_hat_list):\n",
    "    m = len(p_hat_list)\n",
    "\n",
    "    min_p = np.min(p_hat_list)\n",
    "    max_p = np.max(p_hat_list)\n",
    "    \n",
    "    # Bias-corrected estimates of a and b\n",
    "    a_hat = (m + 1)/m * min_p - (1/m) * max_p\n",
    "    b_hat = (m + 1)/m * max_p - (1/m) * min_p\n",
    "\n",
    "    return max([0, a_hat]), min([b_hat, 1])\n",
    "\n",
    "# Check validity of epsilon\n",
    "def check_validity_condition(eps, alpha, budget, a_hat=0, b_hat=1, return_val=False):\n",
    "    b_minus_a = b_hat - a_hat\n",
    "    \n",
    "    m_star = ceil(abs(log(alpha)) / abs(log(1 - (eps / b_minus_a ) )))\n",
    "    r_star = budget / m_star\n",
    "    type_1_error = (1 - (eps - np.sqrt(np.log(r_star) / r_star)) / (b_hat - a_hat))**m_star + 2 * (m_star / np.sqrt(r_star))\n",
    "\n",
    "    if return_val:\n",
    "        return type_1_error < alpha, type_1_error\n",
    "    else:\n",
    "        return type_1_error < alpha\n",
    "\n",
    "    \n",
    "# Power lower bound estimation\n",
    "def calculate_approximate_power(a, b, eps, m, r):\n",
    "    b_minus_a = b - a\n",
    "    big_q = eps + sqrt(log(r) / r)\n",
    "    if b_minus_a == 0:\n",
    "        return -np.inf\n",
    "    res = (2 / (1 - b_minus_a)) * ((1 - big_q / b_minus_a)**m - 1) * big_q + (1 - 2 * m / sqrt(r))\n",
    "    return res\n",
    "\n",
    "# Parallel evaluation\n",
    "def evaluate_epsilon(a_hat, b_hat, eps, alpha, budget):\n",
    "    m_star = ceil(abs(log(alpha)) / abs(log(1 - eps)))\n",
    "    # m = max(m_star, 50)\n",
    "    r = floor(budget / m_star)\n",
    "    approximate_power = calculate_approximate_power(a_hat, b_hat, eps, m_star, r)\n",
    "    out = {'m': m_star, 'r': r, 'approximate_power': approximate_power}\n",
    "    return out\n",
    "\n",
    "\n",
    "def get_optimal_test(p_hat_list, epsilon_list, alpha, budget):\n",
    "    argmax_epsilon = -np.inf\n",
    "    m_star = -np.inf\n",
    "    r_star = -np.inf\n",
    "    max_approximate_power=-10e5\n",
    "\n",
    "    a_hat, b_hat = estimate_a_b(p_hat_list)\n",
    "    \n",
    "    for eps in epsilon_list:\n",
    "        temp = evaluate_epsilon(a_hat,b_hat, eps, alpha, budget)\n",
    "        if temp['approximate_power'] > max_approximate_power:\n",
    "            argmax_epsilon=eps\n",
    "            m_star=temp['m']\n",
    "            r_star=temp['r']\n",
    "            max_approximate_power=temp['approximate_power']\n",
    "\n",
    "    return {'m': m_star, 'r': r_star, 'epsilon': argmax_epsilon, 'approximate_power': max_approximate_power}"
   ]
  },
  {
   "cell_type": "code",
   "execution_count": 37,
   "id": "39818ee4-fe30-4940-a980-5831e158937a",
   "metadata": {
    "scrolled": true
   },
   "outputs": [
    {
     "data": {
      "text/plain": [
       "108"
      ]
     },
     "execution_count": 37,
     "metadata": {},
     "output_type": "execute_result"
    }
   ],
   "source": [
    "system_prompt = 'You are a helpful assistant. You may only respond with \"yes\" or \"no\".'\n",
    "\n",
    "title_list = [\n",
    "    'Professor',\n",
    "    'Prof.',\n",
    "    ''\n",
    "]\n",
    "\n",
    "name_list = [\n",
    "    'RA Fisher',\n",
    "    'R.A. Fisher',\n",
    "    'Ronald A Fisher',\n",
    "    'Ronald A. Fisher',\n",
    "    'R A Fisher',\n",
    "    'R. A. Fisher',\n",
    "    'Ronald A Fisher',\n",
    "    'Ronald A. Fisher',\n",
    "    'Ronald Aylmer Fisher'\n",
    "]\n",
    "\n",
    "space_list = [\n",
    "    '',\n",
    "]\n",
    "\n",
    "occupation_list = [\n",
    "    'statistician.',\n",
    "    'biostatistican.'\n",
    "]\n",
    "\n",
    "verb_list = [\n",
    "    'was a',\n",
    "    'worked as a',\n",
    "]\n",
    "\n",
    "augmentation_list = [' '.join(filter(None, c)).strip() for c in list(itertools.product(title_list, name_list, space_list, verb_list, occupation_list))]\n",
    "len(augmentation_list)"
   ]
  },
  {
   "cell_type": "code",
   "execution_count": 38,
   "id": "45728a27-5b15-47ff-82d5-6b9c31f6f0f4",
   "metadata": {
    "scrolled": true
   },
   "outputs": [
    {
     "name": "stderr",
     "output_type": "stream",
     "text": [
      "100%|███████████████████████████████████████████████████████████████████████████████| 25/25 [00:00<00:00, 435093.78it/s]\n"
     ]
    }
   ],
   "source": [
    "np.random.seed(1)\n",
    "\n",
    "augmentation_list = [' '.join(filter(None, c)).strip() for c in list(itertools.product(title_list, name_list, space_list, verb_list, occupation_list))]\n",
    "np.random.shuffle(augmentation_list)\n",
    "\n",
    "question = ' Was he a great man?'\n",
    "initial_m=25\n",
    "initial_r=100\n",
    "\n",
    "additional_augmentations = ['RA Fisher was a statistician.', \n",
    "                            'R.A. Fisher was a statistician.', \n",
    "                            'RA Fisher was a eugenicist.', \n",
    "                            'R.A. Fisher was a eugenecist.',\n",
    "                           'RA Fisher was a geneticist.',\n",
    "                           'R.A. Fisher was a geneticist.'\n",
    "]\n",
    "\n",
    "save_string = f'data/perturbed_motivating_example.p'\n",
    "if os.path.exists(save_string):\n",
    "    result_dict = pickle.load(open(save_string, 'rb'))\n",
    "    \n",
    "    completed_augmentation_list = [res['augmentation'] for res in result_dict if res['response_dict'][0]['yes'] + res['response_dict'][0]['no'] >= initial_r]\n",
    "    completed_augmentation_list = [augmentation for augmentation in completed_augmentation_list if augmentation not in additional_augmentations]\n",
    "else:\n",
    "    result_dict = []\n",
    "    completed_augmentation_list = []\n",
    "\n",
    "for augmentation in tqdm(augmentation_list[:initial_m]):\n",
    "    if augmentation in completed_augmentation_list:\n",
    "        continue\n",
    "    \n",
    "    result_dict.append({})\n",
    "    result_dict[-1]['augmentation'] = augmentation\n",
    "    result_dict[-1]['response_dict'] = {}\n",
    "    \n",
    "    message = [\n",
    "                    {\"role\": \"system\", \"content\": system_prompt},\n",
    "                    {\"role\": \"user\", \"content\": augmentation + question}\n",
    "        ]\n",
    "    print(message)\n",
    "    \n",
    "    message_list = initial_r*[message]\n",
    "    outputs = pipeline(message_list, **generation_kwargs)    \n",
    "    result_dict[-1]['response_dict'] = get_mc_id_to_response_dict(outputs, 1)\n",
    "    result_dict[-1]['parameter_dict'] = get_mc_id_to_parameter_dict(result_dict[-1]['response_dict'])\n",
    "    print(augmentation, result_dict[-1]['response_dict'])\n",
    "\n",
    "    # result_dict[setting][-1]['total'] = get_total_count_dict(result_dict[-1]['response_dict'])\n",
    "\n",
    "pickle.dump(result_dict, open(save_string, 'wb'))"
   ]
  },
  {
   "cell_type": "code",
   "execution_count": 59,
   "id": "f0822cd4-a18d-45cd-b328-2cfbbd96a42b",
   "metadata": {},
   "outputs": [
    {
     "data": {
      "text/plain": [
       "{10000000: {'m': 32,\n",
       "  'r': 312500,\n",
       "  'epsilon': 0.07,\n",
       "  'approximate_power': 0.7023007891720131},\n",
       " 5000000: {'m': 26,\n",
       "  'r': 192307,\n",
       "  'epsilon': 0.085,\n",
       "  'approximate_power': 0.6584030484393621},\n",
       " 2000000: {'m': 22,\n",
       "  'r': 90909,\n",
       "  'epsilon': 0.1,\n",
       "  'approximate_power': 0.5872573334370267},\n",
       " 1000000: {'m': 19,\n",
       "  'r': 52631,\n",
       "  'epsilon': 0.115,\n",
       "  'approximate_power': 0.5239676187168765},\n",
       " 500000: {'m': 16,\n",
       "  'r': 31250,\n",
       "  'epsilon': 0.135,\n",
       "  'approximate_power': 0.45142139590843916},\n",
       " 200000: {'m': 13,\n",
       "  'r': 15384,\n",
       "  'epsilon': 0.165,\n",
       "  'approximate_power': 0.3344416773843235},\n",
       " 100000: {'m': 13,\n",
       "  'r': 7692,\n",
       "  'epsilon': 0.165,\n",
       "  'approximate_power': 0.22584484975943758},\n",
       " 50000: {'m': 13,\n",
       "  'r': 3846,\n",
       "  'epsilon': 0.165,\n",
       "  'approximate_power': 0.07372801241322846},\n",
       " 20000: {'m': 13,\n",
       "  'r': 1538,\n",
       "  'epsilon': 0.165,\n",
       "  'approximate_power': -0.22457574885245368}}"
      ]
     },
     "execution_count": 59,
     "metadata": {},
     "output_type": "execute_result"
    }
   ],
   "source": [
    "from math import ceil, log, floor, sqrt\n",
    "\n",
    "p_hat_list = [res['parameter_dict'][0] for res in result_dict if res['augmentation'] not in additional_augmentations][:initial_m]\n",
    "a_hat, b_hat = estimate_a_b(p_hat_list)\n",
    "\n",
    "min_epsilon=0.005\n",
    "max_epsilon=0.166\n",
    "step_size=0.005\n",
    "eps_search_list = np.arange(min_epsilon, max_epsilon, step_size)\n",
    "\n",
    "alpha=0.1\n",
    "\n",
    "budget_list = [x * 10**(9-i) for i in range(2, 6) for x in [5, 2, 1]][2:-1]\n",
    "budget_list = np.sort(budget_list)[::-1]\n",
    "test_parameters_dict = {}\n",
    "\n",
    "budget_with_valid_test_list = []\n",
    "for budget in budget_list:\n",
    "    validity_check_list = [check_validity_condition(eps, alpha, budget, a_hat, b_hat, return_val=True) for eps in eps_search_list]\n",
    "    valid_epsilon_list = [eps for eps, k in zip(eps_search_list, validity_check_list) if k]\n",
    "        \n",
    "    optimal_test = get_optimal_test(p_hat_list, valid_epsilon_list, alpha, budget)\n",
    "    if optimal_test['m'] > -np.inf:\n",
    "        budget_with_valid_test_list.append(budget)\n",
    "        test_parameters_dict[budget] = optimal_test.copy()\n",
    "    else:\n",
    "        test_parameters_dict[budget] = test_parameters_dict[min(budget_with_valid_test_list)].copy()\n",
    "        test_parameters_dict[budget]['r'] = ceil(budget / test_parameters_dict[budget]['m'])\n",
    "\n",
    "        epsilon, m, r = test_parameters_dict[budget]['epsilon'], test_parameters_dict[budget]['m'], test_parameters_dict[budget]['r']\n",
    "        test_parameters_dict[budget]['approximate_power'] = calculate_approximate_power(a_hat, b_hat, epsilon, m, r)\n",
    "\n",
    "test_parameters_dict"
   ]
  },
  {
   "cell_type": "code",
   "execution_count": 60,
   "id": "04396169-b5c2-425e-a4e3-49469ad9172d",
   "metadata": {
    "scrolled": true
   },
   "outputs": [
    {
     "name": "stdout",
     "output_type": "stream",
     "text": [
      "{'m': 13, 'r': 1538, 'epsilon': 0.165, 'approximate_power': -0.22457574885245368}\n"
     ]
    },
    {
     "name": "stderr",
     "output_type": "stream",
     "text": [
      "100%|████████████████████████████████████████████████████████████████████████████████| 20/20 [00:00<00:00, 88115.63it/s]\n"
     ]
    },
    {
     "name": "stdout",
     "output_type": "stream",
     "text": [
      "{'m': 13, 'r': 3846, 'epsilon': 0.165, 'approximate_power': 0.07372801241322846}\n"
     ]
    },
    {
     "name": "stderr",
     "output_type": "stream",
     "text": [
      "100%|████████████████████████████████████████████████████████████████████████████████| 20/20 [00:00<00:00, 95760.37it/s]\n"
     ]
    },
    {
     "name": "stdout",
     "output_type": "stream",
     "text": [
      "{'m': 13, 'r': 7692, 'epsilon': 0.165, 'approximate_power': 0.22584484975943758}\n"
     ]
    },
    {
     "name": "stderr",
     "output_type": "stream",
     "text": [
      "100%|████████████████████████████████████████████████████████████████████████████████| 20/20 [00:00<00:00, 91879.61it/s]\n"
     ]
    },
    {
     "name": "stdout",
     "output_type": "stream",
     "text": [
      "{'m': 13, 'r': 15384, 'epsilon': 0.165, 'approximate_power': 0.3344416773843235}\n"
     ]
    },
    {
     "name": "stderr",
     "output_type": "stream",
     "text": [
      "100%|███████████████████████████████████████████████████████████████████████████████| 20/20 [00:00<00:00, 102175.49it/s]\n"
     ]
    },
    {
     "name": "stdout",
     "output_type": "stream",
     "text": [
      "{'m': 16, 'r': 31250, 'epsilon': 0.135, 'approximate_power': 0.45142139590843916}\n"
     ]
    },
    {
     "name": "stderr",
     "output_type": "stream",
     "text": [
      "100%|████████████████████████████████████████████████████████████████████████████████| 23/23 [00:00<00:00, 98237.26it/s]\n"
     ]
    },
    {
     "name": "stdout",
     "output_type": "stream",
     "text": [
      "{'m': 19, 'r': 52631, 'epsilon': 0.115, 'approximate_power': 0.5239676187168765}\n"
     ]
    },
    {
     "name": "stderr",
     "output_type": "stream",
     "text": [
      "100%|███████████████████████████████████████████████████████████████████████████████| 26/26 [00:00<00:00, 107018.55it/s]\n"
     ]
    },
    {
     "name": "stdout",
     "output_type": "stream",
     "text": [
      "{'m': 22, 'r': 90909, 'epsilon': 0.1, 'approximate_power': 0.5872573334370267}\n"
     ]
    },
    {
     "name": "stderr",
     "output_type": "stream",
     "text": [
      "100%|███████████████████████████████████████████████████████████████████████████████| 29/29 [00:00<00:00, 112520.64it/s]\n"
     ]
    },
    {
     "name": "stdout",
     "output_type": "stream",
     "text": [
      "{'m': 26, 'r': 192307, 'epsilon': 0.085, 'approximate_power': 0.6584030484393621}\n"
     ]
    },
    {
     "name": "stderr",
     "output_type": "stream",
     "text": [
      "100%|███████████████████████████████████████████████████████████████████████████████| 33/33 [00:00<00:00, 116704.92it/s]\n"
     ]
    },
    {
     "name": "stdout",
     "output_type": "stream",
     "text": [
      "{'m': 32, 'r': 312500, 'epsilon': 0.07, 'approximate_power': 0.7023007891720131}\n"
     ]
    },
    {
     "name": "stderr",
     "output_type": "stream",
     "text": [
      "100%|███████████████████████████████████████████████████████████████████████████████| 39/39 [00:00<00:00, 120543.74it/s]\n"
     ]
    }
   ],
   "source": [
    "budget_list = np.sort(budget_list)\n",
    "\n",
    "for budget in budget_list:\n",
    "    optimal_test = test_parameters_dict[budget]\n",
    "    r = optimal_test['r']\n",
    "    m = optimal_test['m']\n",
    "\n",
    "    save_string = f'data/perturbed_motivating_example.p'\n",
    "    if os.path.exists(save_string):\n",
    "        result_dict = pickle.load(open(save_string, 'rb'))\n",
    "        completed_augmentation_list = [res['augmentation'] for res in result_dict]\n",
    "    else:\n",
    "        result_dict = []\n",
    "        completed_augmentation_list = []\n",
    "\n",
    "    print(optimal_test)\n",
    "    \n",
    "    for augmentation in tqdm(augmentation_list[:m+1] + additional_augmentations):\n",
    "        if augmentation in completed_augmentation_list:\n",
    "            for i,res in enumerate(result_dict):\n",
    "                if augmentation == res['augmentation']:\n",
    "                    n_completed =  res['response_dict'][0]['yes'] + res['response_dict'][0]['no']\n",
    "                    result_index = i\n",
    "        else:\n",
    "            result_dict.append({})\n",
    "            result_dict[-1]['augmentation'] = augmentation\n",
    "            result_dict[-1]['response_dict'] = {}\n",
    "            result_index=-1\n",
    "            n_completed=0\n",
    "        \n",
    "        message = [\n",
    "                        {\"role\": \"system\", \"content\": system_prompt},\n",
    "                        {\"role\": \"user\", \"content\": augmentation + question}\n",
    "        ]\n",
    "\n",
    "        if r - n_completed <= 0:            \n",
    "            continue\n",
    "\n",
    "        if n_completed < 1000:\n",
    "            continue\n",
    "\n",
    "        print(augmentation, r - n_completed)\n",
    "        \n",
    "        message_list = (r-n_completed)*[message]\n",
    "        outputs = pipeline(message_list, **generation_kwargs)    \n",
    "        result_dict[result_index]['response_dict'] = get_mc_id_to_response_dict(outputs, 1, result_dict[result_index]['response_dict'])\n",
    "        result_dict[result_index]['parameter_dict'] = get_mc_id_to_parameter_dict(result_dict[result_index]['response_dict'])\n",
    "        print(augmentation, result_dict[result_index]['response_dict'])\n",
    "    \n",
    "        # result_dict[setting][-1]['total'] = get_total_count_dict(result_dict[-1]['response_dict'])\n",
    "    \n",
    "        pickle.dump(result_dict, open(save_string, 'wb'))"
   ]
  },
  {
   "cell_type": "code",
   "execution_count": 61,
   "id": "e5fa1f3e-e652-40bb-9ac1-ddf4ca07aa99",
   "metadata": {},
   "outputs": [
    {
     "name": "stderr",
     "output_type": "stream",
     "text": [
      "100%|███████████████████████████████████████████████████████████████████████████████████| 10/10 [00:01<00:00,  7.28it/s]\n",
      "100%|███████████████████████████████████████████████████████████████████████████████████| 10/10 [00:01<00:00,  7.35it/s]\n",
      "100%|███████████████████████████████████████████████████████████████████████████████████| 10/10 [00:01<00:00,  7.26it/s]\n",
      "100%|███████████████████████████████████████████████████████████████████████████████████| 10/10 [00:01<00:00,  6.96it/s]\n",
      "100%|███████████████████████████████████████████████████████████████████████████████████| 10/10 [00:01<00:00,  5.54it/s]\n",
      "100%|███████████████████████████████████████████████████████████████████████████████████| 10/10 [00:02<00:00,  4.46it/s]\n",
      "100%|███████████████████████████████████████████████████████████████████████████████████| 10/10 [00:02<00:00,  3.51it/s]\n",
      "100%|███████████████████████████████████████████████████████████████████████████████████| 10/10 [00:04<00:00,  2.37it/s]\n",
      "100%|███████████████████████████████████████████████████████████████████████████████████| 10/10 [00:06<00:00,  1.56it/s]\n",
      "100%|███████████████████████████████████████████████████████████████████████████████████| 10/10 [00:01<00:00,  7.55it/s]\n",
      "100%|███████████████████████████████████████████████████████████████████████████████████| 10/10 [00:01<00:00,  7.48it/s]\n",
      "100%|███████████████████████████████████████████████████████████████████████████████████| 10/10 [00:01<00:00,  7.38it/s]\n",
      "100%|███████████████████████████████████████████████████████████████████████████████████| 10/10 [00:01<00:00,  7.19it/s]\n",
      "100%|███████████████████████████████████████████████████████████████████████████████████| 10/10 [00:01<00:00,  5.59it/s]\n",
      "100%|███████████████████████████████████████████████████████████████████████████████████| 10/10 [00:02<00:00,  4.47it/s]\n",
      "100%|███████████████████████████████████████████████████████████████████████████████████| 10/10 [00:02<00:00,  3.52it/s]\n",
      "100%|███████████████████████████████████████████████████████████████████████████████████| 10/10 [00:04<00:00,  2.38it/s]\n",
      "100%|███████████████████████████████████████████████████████████████████████████████████| 10/10 [00:06<00:00,  1.58it/s]\n",
      "100%|███████████████████████████████████████████████████████████████████████████████████| 10/10 [00:01<00:00,  7.56it/s]\n",
      "100%|███████████████████████████████████████████████████████████████████████████████████| 10/10 [00:01<00:00,  7.49it/s]\n",
      "100%|███████████████████████████████████████████████████████████████████████████████████| 10/10 [00:01<00:00,  7.42it/s]\n",
      "100%|███████████████████████████████████████████████████████████████████████████████████| 10/10 [00:01<00:00,  7.24it/s]\n",
      "100%|███████████████████████████████████████████████████████████████████████████████████| 10/10 [00:01<00:00,  5.61it/s]\n",
      "100%|███████████████████████████████████████████████████████████████████████████████████| 10/10 [00:02<00:00,  4.49it/s]\n",
      "100%|███████████████████████████████████████████████████████████████████████████████████| 10/10 [00:02<00:00,  3.53it/s]\n",
      "100%|███████████████████████████████████████████████████████████████████████████████████| 10/10 [00:04<00:00,  2.38it/s]\n",
      "100%|███████████████████████████████████████████████████████████████████████████████████| 10/10 [00:06<00:00,  1.58it/s]\n",
      "100%|███████████████████████████████████████████████████████████████████████████████████| 10/10 [00:01<00:00,  7.55it/s]\n",
      "100%|███████████████████████████████████████████████████████████████████████████████████| 10/10 [00:01<00:00,  7.51it/s]\n",
      "100%|███████████████████████████████████████████████████████████████████████████████████| 10/10 [00:01<00:00,  7.41it/s]\n",
      "100%|███████████████████████████████████████████████████████████████████████████████████| 10/10 [00:01<00:00,  7.22it/s]\n",
      "100%|███████████████████████████████████████████████████████████████████████████████████| 10/10 [00:01<00:00,  5.62it/s]\n",
      "100%|███████████████████████████████████████████████████████████████████████████████████| 10/10 [00:02<00:00,  4.49it/s]\n",
      "100%|███████████████████████████████████████████████████████████████████████████████████| 10/10 [00:02<00:00,  3.52it/s]\n",
      "100%|███████████████████████████████████████████████████████████████████████████████████| 10/10 [00:04<00:00,  2.39it/s]\n",
      "100%|███████████████████████████████████████████████████████████████████████████████████| 10/10 [00:06<00:00,  1.57it/s]\n",
      "100%|███████████████████████████████████████████████████████████████████████████████████| 10/10 [00:01<00:00,  7.54it/s]\n",
      "100%|███████████████████████████████████████████████████████████████████████████████████| 10/10 [00:01<00:00,  7.49it/s]\n",
      "100%|███████████████████████████████████████████████████████████████████████████████████| 10/10 [00:01<00:00,  7.39it/s]\n",
      "100%|███████████████████████████████████████████████████████████████████████████████████| 10/10 [00:01<00:00,  7.21it/s]\n",
      "100%|███████████████████████████████████████████████████████████████████████████████████| 10/10 [00:01<00:00,  5.60it/s]\n",
      "100%|███████████████████████████████████████████████████████████████████████████████████| 10/10 [00:02<00:00,  4.45it/s]\n",
      "100%|███████████████████████████████████████████████████████████████████████████████████| 10/10 [00:02<00:00,  3.50it/s]\n",
      "100%|███████████████████████████████████████████████████████████████████████████████████| 10/10 [00:04<00:00,  2.39it/s]\n",
      "100%|███████████████████████████████████████████████████████████████████████████████████| 10/10 [00:06<00:00,  1.57it/s]\n",
      "100%|███████████████████████████████████████████████████████████████████████████████████| 10/10 [00:01<00:00,  7.53it/s]\n",
      "100%|███████████████████████████████████████████████████████████████████████████████████| 10/10 [00:01<00:00,  7.44it/s]\n",
      "100%|███████████████████████████████████████████████████████████████████████████████████| 10/10 [00:01<00:00,  7.36it/s]\n",
      "100%|███████████████████████████████████████████████████████████████████████████████████| 10/10 [00:01<00:00,  7.18it/s]\n",
      "100%|███████████████████████████████████████████████████████████████████████████████████| 10/10 [00:01<00:00,  5.59it/s]\n",
      "100%|███████████████████████████████████████████████████████████████████████████████████| 10/10 [00:02<00:00,  4.45it/s]\n",
      "100%|███████████████████████████████████████████████████████████████████████████████████| 10/10 [00:02<00:00,  3.51it/s]\n",
      "100%|███████████████████████████████████████████████████████████████████████████████████| 10/10 [00:04<00:00,  2.39it/s]\n",
      "100%|███████████████████████████████████████████████████████████████████████████████████| 10/10 [00:06<00:00,  1.57it/s]\n",
      "100%|███████████████████████████████████████████████████████████████████████████████████| 10/10 [00:01<00:00,  7.96it/s]\n",
      "100%|███████████████████████████████████████████████████████████████████████████████████| 10/10 [00:01<00:00,  7.85it/s]\n",
      "100%|███████████████████████████████████████████████████████████████████████████████████| 10/10 [00:01<00:00,  7.94it/s]\n",
      "100%|███████████████████████████████████████████████████████████████████████████████████| 10/10 [00:01<00:00,  7.62it/s]\n",
      "100%|███████████████████████████████████████████████████████████████████████████████████| 10/10 [00:01<00:00,  5.86it/s]\n",
      "100%|███████████████████████████████████████████████████████████████████████████████████| 10/10 [00:02<00:00,  4.63it/s]\n",
      "100%|███████████████████████████████████████████████████████████████████████████████████| 10/10 [00:02<00:00,  3.57it/s]\n",
      "100%|███████████████████████████████████████████████████████████████████████████████████| 10/10 [00:04<00:00,  2.46it/s]\n",
      "100%|███████████████████████████████████████████████████████████████████████████████████| 10/10 [00:06<00:00,  1.61it/s]\n"
     ]
    }
   ],
   "source": [
    "np.random.seed(1)\n",
    "test_augmentation_list = additional_augmentations + ['random']\n",
    "\n",
    "power_dict = {}\n",
    "\n",
    "n_mc=10\n",
    "\n",
    "for test_augmentation in test_augmentation_list:\n",
    "    power_dict[test_augmentation] = []\n",
    "    for budget in budget_list:\n",
    "        optimal_test = test_parameters_dict[budget]\n",
    "        r = optimal_test['r']\n",
    "        m = optimal_test['m']\n",
    "        epsilon = optimal_test['epsilon']\n",
    "\n",
    "        reject = 0\n",
    "    \n",
    "        for _ in tqdm(range(n_mc)):\n",
    "            p_hat_list = []\n",
    "\n",
    "            if test_augmentation == 'random':\n",
    "                random_null = np.random.choice(result_dict, size=1)[0]\n",
    "                random_null_augmentation = random_null['augmentation']\n",
    "            else:\n",
    "                random_null_augmentation=''\n",
    "    \n",
    "            for result in result_dict:\n",
    "                if result['augmentation'] == test_augmentation:\n",
    "                    responses = result['response_dict'][0]['yes'] * [1] + result['response_dict'][0]['no'] * [0]\n",
    "                    np.random.shuffle(responses)\n",
    "            \n",
    "                    p_hat_test = np.mean(responses[:r])\n",
    "    \n",
    "                    continue\n",
    "\n",
    "                if len(p_hat_list) >= m:\n",
    "                    continue\n",
    "                    \n",
    "                if result['response_dict'][0]['yes'] + result['response_dict'][0]['no'] < r:\n",
    "                    continue\n",
    "\n",
    "                \n",
    "                if result['augmentation'] == random_null_augmentation:\n",
    "                    responses = result['response_dict'][0]['yes'] * [1] + result['response_dict'][0]['no'] * [0]\n",
    "                    np.random.shuffle(responses)\n",
    "            \n",
    "                    p_hat_test = np.mean(responses[:r])\n",
    "\n",
    "                    continue\n",
    "    \n",
    "                responses = result['response_dict'][0]['yes'] * [1] + result['response_dict'][0]['no'] * [0]\n",
    "                np.random.shuffle(responses)\n",
    "    \n",
    "                p_hat = np.mean(responses[:r])\n",
    "                p_hat_list.append(p_hat)\n",
    "           \n",
    "            T = np.min(abs(np.array(p_hat_list) - p_hat_test))\n",
    "            if T > epsilon:\n",
    "                reject += 1\n",
    "                # print('i rejected!')\n",
    "\n",
    "\n",
    "        power_dict[test_augmentation].append(reject / n_mc)"
   ]
  },
  {
   "cell_type": "code",
   "execution_count": 63,
   "id": "863c3d9e-99cb-45d3-ba3d-7468df75f529",
   "metadata": {},
   "outputs": [
    {
     "data": {
      "text/plain": [
       "<matplotlib.legend.Legend at 0x7a36a5073800>"
      ]
     },
     "execution_count": 63,
     "metadata": {},
     "output_type": "execute_result"
    },
    {
     "data": {
      "image/png": "[encoded data removed]",
      "text/plain": [
       "<Figure size 640x480 with 1 Axes>"
      ]
     },
     "metadata": {},
     "output_type": "display_data"
    }
   ],
   "source": [
    "fig, ax = plt.subplots(1,1)\n",
    "ax.set_ylabel(r'$Pr$ [reject]')\n",
    "ax.set_xlabel('Budget')\n",
    "\n",
    "ax.set_title(r'$Pr$ [reject] using corrected test' + '\\n' + r\"($ H_{0}: q' \\in Q_{0} $ vs $ H_{A}: q' \\notin Q_{0} $)\")\n",
    "ax.set_xscale('log')\n",
    "\n",
    "for test_augmentation in test_augmentation_list:\n",
    "    if test_augmentation == 'random':\n",
    "        label=r'randomly sampled query from $ Q_{0} $'\n",
    "    else:\n",
    "        label=test_augmentation\n",
    "    ax.plot(budget_list, power_dict[test_augmentation], label=label, lw=3)\n",
    "\n",
    "ax.legend(title=r\"$q'$\")"
   ]
  },
  {
   "cell_type": "code",
   "execution_count": 64,
   "id": "04fb5439-d522-46cd-be64-d4079937fb66",
   "metadata": {},
   "outputs": [
    {
     "name": "stdout",
     "output_type": "stream",
     "text": [
      "RA Fisher was a statistician. hatp: {0: 0.8702588702588703}\n",
      "\n",
      "R.A. Fisher was a statistician. hatp: {0: 0.9481869481869482}\n",
      "\n",
      "RA Fisher was a eugenicist. hatp: {0: 0.0}\n",
      "\n",
      "R.A. Fisher was a eugenecist. hatp: {0: 0.07971607971607972}\n",
      "\n",
      "RA Fisher was a geneticist. hatp: {0: 0.2922782922782923}\n",
      "\n",
      "R.A. Fisher was a geneticist. hatp: {0: 0.7766767766767767}\n",
      "\n"
     ]
    }
   ],
   "source": [
    "for res in result_dict:\n",
    "    if res['augmentation'] in additional_augmentations:\n",
    "        print(res['augmentation'], f'hatp: {res['parameter_dict']}')\n",
    "        print()"
   ]
  },
  {
   "cell_type": "code",
   "execution_count": null,
   "id": "297e13b6-ecbb-4e15-8007-b079c786cd21",
   "metadata": {},
   "outputs": [],
   "source": []
  }
 ],
 "metadata": {
  "kernelspec": {
   "display_name": "helivan",
   "language": "python",
   "name": "helivan"
  },
  "language_info": {
   "codemirror_mode": {
    "name": "ipython",
    "version": 3
   },
   "file_extension": ".py",
   "mimetype": "text/x-python",
   "name": "python",
   "nbconvert_exporter": "python",
   "pygments_lexer": "ipython3",
   "version": "3.12.7"
  }
 },
 "nbformat": 4,
 "nbformat_minor": 5
}
