{
 "cells": [
  {
   "cell_type": "code",
   "execution_count": 40,
   "id": "ac0e7cba-dc69-4db9-baff-88959117cee1",
   "metadata": {},
   "outputs": [],
   "source": [
    "import numpy as np\n",
    "import matplotlib.pyplot as plt\n",
    "import pickle\n",
    "\n",
    "# import transformers\n",
    "from scipy.stats import fisher_exact \n",
    "from tqdm import tqdm\n",
    "\n",
    "import os\n",
    "\n",
    "import itertools\n",
    "\n",
    "model_str = 'meta-llama/Meta-Llama-3-8B-Instruct'\n",
    "device='cuda:0'\n",
    "\n",
    "# if 'pipeline' not in locals():\n",
    "#     pipeline = transformers.pipeline(\n",
    "#         \"text-generation\",\n",
    "#         model=model_str,\n",
    "#         device_map=device\n",
    "#     )\n",
    "#     pipeline.tokenizer.padding_side='left'\n",
    "#     pipeline.tokenizer.pad_token_id = pipeline.model.config.eos_token_id if isinstance(pipeline.model.config.eos_token_id, int) else pipeline.model.config.eos_token_id[-1]\n",
    "\n",
    "#     generation_kwargs = {\n",
    "#         'batch_size':1000,\n",
    "#         'max_new_tokens':10,\n",
    "#         'eos_token_id':pipeline.tokenizer.eos_token_id,\n",
    "#         'do_sample':True,\n",
    "#         'temperature':1.9,\n",
    "#         'num_return_sequences':1\n",
    "#     }\n",
    "\n",
    "\n",
    "def get_mc_id_to_response_dict(outputs, n_mc, response_dict=None):\n",
    "    r = len(outputs) // n_mc\n",
    "\n",
    "    if not response_dict:\n",
    "        response_dict = {}\n",
    "    \n",
    "    for mc in range(n_mc):\n",
    "        if mc not in response_dict:\n",
    "            response_dict[mc] = {}\n",
    "            response_dict[mc]['yes'] = 0\n",
    "            response_dict[mc]['no'] = 0\n",
    "            response_dict[mc]['invalid'] = 0\n",
    "\n",
    "        temp_outputs = outputs[mc*r: (mc+1)*r]\n",
    "        for output in temp_outputs:\n",
    "            if 'yes' in output[0]['generated_text'][-1]['content'].lower():\n",
    "                response_dict[mc]['yes'] += 1\n",
    "            elif 'no' in output[0]['generated_text'][-1]['content'].lower():\n",
    "                response_dict[mc]['no'] += 1\n",
    "            else:\n",
    "                response_dict[mc]['invalid'] += 1       \n",
    "\n",
    "    return response_dict\n",
    "\n",
    "def get_total_count_dict(response_dict):\n",
    "    total_count_dict = {'yes': 0, 'no': 0, 'invalid': 0}\n",
    "\n",
    "    for r in response_dict:\n",
    "        for mc in response_dict[r]:\n",
    "            for response in response_dict[r][mc]:\n",
    "                total_count_dict[response] += response_dict[r][mc][response]\n",
    "\n",
    "    return total_count_dict\n",
    "\n",
    "\n",
    "def get_mc_id_to_parameter_dict(result_dict):\n",
    "    parameter_dict = {}\n",
    "    n_mc = len(result_dict)\n",
    "\n",
    "    for i in range(n_mc):\n",
    "        p = result_dict[i]['yes'] / (result_dict[i]['yes'] + result_dict[i]['no'])\n",
    "\n",
    "        parameter_dict[i] = p\n",
    "\n",
    "    return parameter_dict\n",
    "\n",
    "\n",
    "def estimate_a_b(p_hat_list):\n",
    "    m = len(p_hat_list)\n",
    "\n",
    "    min_p = np.min(p_hat_list)\n",
    "    max_p = np.max(p_hat_list)\n",
    "    \n",
    "    # Bias-corrected estimates of a and b\n",
    "    a_hat = (m + 1)/m * min_p - (1/m) * max_p\n",
    "    b_hat = (m + 1)/m * max_p - (1/m) * min_p\n",
    "\n",
    "    return max([0, a_hat]), min([b_hat, 1])\n",
    "\n",
    "# Check validity of epsilon\n",
    "def check_validity_condition(eps, alpha, budget, a_hat=0, b_hat=1, return_val=False):\n",
    "    b_minus_a = b_hat - a_hat\n",
    "    \n",
    "    m_star = ceil(abs(log(alpha)) / abs(log(1 - (eps / b_minus_a ) )))\n",
    "    r_star = budget / m_star\n",
    "    type_1_error = (1 - (eps - np.sqrt(np.log(r_star) / r_star)) / (b_hat - a_hat))**m_star + 2 * (m_star / np.sqrt(r_star))\n",
    "\n",
    "    if return_val:\n",
    "        return type_1_error < alpha, type_1_error\n",
    "    else:\n",
    "        return type_1_error < alpha\n",
    "\n",
    "    \n",
    "# Power lower bound estimation\n",
    "def calculate_approximate_power(a, b, eps, m, r):\n",
    "    b_minus_a = b - a\n",
    "    big_q = eps + sqrt(log(r) / r)\n",
    "    if b_minus_a == 0:\n",
    "        return -np.inf\n",
    "    res = (2 / (1 - b_minus_a)) * ((1 - big_q / b_minus_a)**m - 1) * big_q + (1 - 2 * m / sqrt(r))\n",
    "    return res\n",
    "\n",
    "# Parallel evaluation\n",
    "def evaluate_epsilon(a_hat, b_hat, eps, alpha, budget):\n",
    "    m_star = ceil(abs(log(alpha)) / abs(log(1 - eps)))\n",
    "    # m = max(m_star, 50)\n",
    "    r = floor(budget / m_star)\n",
    "    approximate_power = calculate_approximate_power(a_hat, b_hat, eps, m_star, r)\n",
    "    out = {'m': m_star, 'r': r, 'approximate_power': approximate_power}\n",
    "    return out\n",
    "\n",
    "\n",
    "def get_optimal_test(p_hat_list, epsilon_list, alpha, budget):\n",
    "    argmax_epsilon = -np.inf\n",
    "    m_star = -np.inf\n",
    "    r_star = -np.inf\n",
    "    max_approximate_power=-10e5\n",
    "\n",
    "    a_hat, b_hat = estimate_a_b(p_hat_list)\n",
    "    \n",
    "    for eps in epsilon_list:\n",
    "        temp = evaluate_epsilon(a_hat,b_hat, eps, alpha, budget)\n",
    "        if temp['approximate_power'] > max_approximate_power:\n",
    "            argmax_epsilon=eps\n",
    "            m_star=temp['m']\n",
    "            r_star=temp['r']\n",
    "            max_approximate_power=temp['approximate_power']\n",
    "\n",
    "    return {'m': m_star, 'r': r_star, 'epsilon': argmax_epsilon, 'approximate_power': max_approximate_power}"
   ]
  },
  {
   "cell_type": "code",
   "execution_count": 41,
   "id": "39818ee4-fe30-4940-a980-5831e158937a",
   "metadata": {
    "scrolled": true
   },
   "outputs": [
    {
     "data": {
      "text/plain": [
       "108"
      ]
     },
     "execution_count": 41,
     "metadata": {},
     "output_type": "execute_result"
    }
   ],
   "source": [
    "system_prompt = 'You are a helpful assistant. You may only respond with \"yes\" or \"no\".'\n",
    "\n",
    "title_list = [\n",
    "    'Professor',\n",
    "    'Prof.',\n",
    "    ''\n",
    "]\n",
    "\n",
    "name_list = [\n",
    "    'RA Fisher',\n",
    "    'R.A. Fisher',\n",
    "    'Ronald A Fisher',\n",
    "    'Ronald A. Fisher',\n",
    "    'R A Fisher',\n",
    "    'R. A. Fisher',\n",
    "    'Ronald A Fisher',\n",
    "    'Ronald A. Fisher',\n",
    "    'Ronald Aylmer Fisher'\n",
    "]\n",
    "\n",
    "space_list = [\n",
    "    '',\n",
    "]\n",
    "\n",
    "occupation_list = [\n",
    "    'statistician.',\n",
    "    'biostatistican.'\n",
    "]\n",
    "\n",
    "verb_list = [\n",
    "    'was a',\n",
    "    'worked as a',\n",
    "]\n",
    "\n",
    "augmentation_list = [' '.join(filter(None, c)).strip() for c in list(itertools.product(title_list, name_list, space_list, verb_list, occupation_list))]\n",
    "len(augmentation_list)"
   ]
  },
  {
   "cell_type": "code",
   "execution_count": 50,
   "id": "45728a27-5b15-47ff-82d5-6b9c31f6f0f4",
   "metadata": {
    "scrolled": true
   },
   "outputs": [
    {
     "name": "stderr",
     "output_type": "stream",
     "text": [
      "100%|███████████████████████████████████████████████████████████████████████████████| 25/25 [00:00<00:00, 375833.69it/s]\n"
     ]
    }
   ],
   "source": [
    "np.random.seed(1)\n",
    "\n",
    "augmentation_list = [' '.join(filter(None, c)).strip() for c in list(itertools.product(title_list, name_list, space_list, verb_list, occupation_list))]\n",
    "np.random.shuffle(augmentation_list)\n",
    "\n",
    "question = ' Was he a great man?'\n",
    "initial_m=25\n",
    "initial_r=100\n",
    "\n",
    "additional_augmentations = ['RA Fisher was a statistician.', \n",
    "                            'R.A. Fisher was a statistician.', \n",
    "                            'RA Fisher was a eugenicist.', \n",
    "                            'R.A. Fisher was a eugenecist.',\n",
    "                           'RA Fisher was a geneticist.',\n",
    "                           'R.A. Fisher was a geneticist.'\n",
    "]\n",
    "\n",
    "save_string = f'data/perturbed_motivating_example.json'\n",
    "if os.path.exists(save_string):\n",
    "    with open(save_string) as f:\n",
    "        result_dict = json.load(f)\n",
    "    \n",
    "    completed_augmentation_list = [res['augmentation'] for res in result_dict if res['response_dict']['0']['yes'] + res['response_dict']['0']['no'] >= initial_r]\n",
    "    completed_augmentation_list = [augmentation for augmentation in completed_augmentation_list if augmentation not in additional_augmentations]\n",
    "else:\n",
    "    result_dict = []\n",
    "    completed_augmentation_list = []\n",
    "\n",
    "for augmentation in tqdm(augmentation_list[:initial_m]):\n",
    "    if augmentation in completed_augmentation_list:\n",
    "        continue\n",
    "    \n",
    "    result_dict.append({})\n",
    "    result_dict[-1]['augmentation'] = augmentation\n",
    "    result_dict[-1]['response_dict'] = {}\n",
    "    \n",
    "    message = [\n",
    "                    {\"role\": \"system\", \"content\": system_prompt},\n",
    "                    {\"role\": \"user\", \"content\": augmentation + question}\n",
    "        ]\n",
    "    print(message)\n",
    "    \n",
    "    message_list = initial_r*[message]\n",
    "    outputs = pipeline(message_list, **generation_kwargs)    \n",
    "    result_dict[-1]['response_dict'] = get_mc_id_to_response_dict(outputs, 1)\n",
    "    result_dict[-1]['parameter_dict'] = get_mc_id_to_parameter_dict(result_dict[-1]['response_dict'])\n",
    "    print(augmentation, result_dict[-1]['response_dict'])\n",
    "\n",
    "    # result_dict[setting][-1]['total'] = get_total_count_dict(result_dict[-1]['response_dict'])\n",
    "\n",
    "with open(save_string, \"w\") as f:\n",
    "    json.dump(result_dict, f, indent=2)"
   ]
  },
  {
   "cell_type": "code",
   "execution_count": null,
   "id": "7e055bd5-511d-476a-bced-c3fa77cab53b",
   "metadata": {},
   "outputs": [],
   "source": []
  },
  {
   "cell_type": "code",
   "execution_count": 51,
   "id": "f0822cd4-a18d-45cd-b328-2cfbbd96a42b",
   "metadata": {},
   "outputs": [
    {
     "data": {
      "text/plain": [
       "{10000000: {'m': 32,\n",
       "  'r': 312500,\n",
       "  'epsilon': 0.07,\n",
       "  'approximate_power': 0.7023007891720131},\n",
       " 5000000: {'m': 26,\n",
       "  'r': 192307,\n",
       "  'epsilon': 0.085,\n",
       "  'approximate_power': 0.6584030484393621},\n",
       " 2000000: {'m': 22,\n",
       "  'r': 90909,\n",
       "  'epsilon': 0.1,\n",
       "  'approximate_power': 0.5872573334370267},\n",
       " 1000000: {'m': 19,\n",
       "  'r': 52631,\n",
       "  'epsilon': 0.115,\n",
       "  'approximate_power': 0.5239676187168765},\n",
       " 500000: {'m': 16,\n",
       "  'r': 31250,\n",
       "  'epsilon': 0.135,\n",
       "  'approximate_power': 0.45142139590843916},\n",
       " 200000: {'m': 13,\n",
       "  'r': 15384,\n",
       "  'epsilon': 0.165,\n",
       "  'approximate_power': 0.3344416773843235},\n",
       " 100000: {'m': 13,\n",
       "  'r': 7692,\n",
       "  'epsilon': 0.165,\n",
       "  'approximate_power': 0.22584484975943758},\n",
       " 50000: {'m': 13,\n",
       "  'r': 3846,\n",
       "  'epsilon': 0.165,\n",
       "  'approximate_power': 0.07372801241322846},\n",
       " 20000: {'m': 13,\n",
       "  'r': 1538,\n",
       "  'epsilon': 0.165,\n",
       "  'approximate_power': -0.22457574885245368}}"
      ]
     },
     "execution_count": 51,
     "metadata": {},
     "output_type": "execute_result"
    }
   ],
   "source": [
    "from math import ceil, log, floor, sqrt\n",
    "\n",
    "p_hat_list = [res['parameter_dict']['0'] for res in result_dict if res['augmentation'] not in additional_augmentations][:initial_m]\n",
    "a_hat, b_hat = estimate_a_b(p_hat_list)\n",
    "\n",
    "min_epsilon=0.005\n",
    "max_epsilon=0.166\n",
    "step_size=0.005\n",
    "eps_search_list = np.arange(min_epsilon, max_epsilon, step_size)\n",
    "\n",
    "alpha=0.1\n",
    "\n",
    "budget_list = [x * 10**(9-i) for i in range(2, 6) for x in [5, 2, 1]][2:-1]\n",
    "budget_list = np.sort(budget_list)[::-1]\n",
    "test_parameters_dict = {}\n",
    "\n",
    "budget_with_valid_test_list = []\n",
    "for budget in budget_list:\n",
    "    validity_check_list = [check_validity_condition(eps, alpha, budget, a_hat, b_hat, return_val=True) for eps in eps_search_list]\n",
    "    valid_epsilon_list = [eps for eps, k in zip(eps_search_list, validity_check_list) if k]\n",
    "        \n",
    "    optimal_test = get_optimal_test(p_hat_list, valid_epsilon_list, alpha, budget)\n",
    "    if optimal_test['m'] > -np.inf:\n",
    "        budget_with_valid_test_list.append(budget)\n",
    "        test_parameters_dict[budget] = optimal_test.copy()\n",
    "    else:\n",
    "        test_parameters_dict[budget] = test_parameters_dict[min(budget_with_valid_test_list)].copy()\n",
    "        test_parameters_dict[budget]['r'] = ceil(budget / test_parameters_dict[budget]['m'])\n",
    "\n",
    "        epsilon, m, r = test_parameters_dict[budget]['epsilon'], test_parameters_dict[budget]['m'], test_parameters_dict[budget]['r']\n",
    "        test_parameters_dict[budget]['approximate_power'] = calculate_approximate_power(a_hat, b_hat, epsilon, m, r)\n",
    "\n",
    "test_parameters_dict"
   ]
  },
  {
   "cell_type": "code",
   "execution_count": 52,
   "id": "04396169-b5c2-425e-a4e3-49469ad9172d",
   "metadata": {
    "scrolled": true
   },
   "outputs": [
    {
     "name": "stdout",
     "output_type": "stream",
     "text": [
      "{'m': 13, 'r': 1538, 'epsilon': 0.165, 'approximate_power': -0.22457574885245368}\n"
     ]
    },
    {
     "name": "stderr",
     "output_type": "stream",
     "text": [
      "100%|████████████████████████████████████████████████████████████████████████████████| 20/20 [00:00<00:00, 91779.08it/s]\n"
     ]
    },
    {
     "name": "stdout",
     "output_type": "stream",
     "text": [
      "{'m': 13, 'r': 3846, 'epsilon': 0.165, 'approximate_power': 0.07372801241322846}\n"
     ]
    },
    {
     "name": "stderr",
     "output_type": "stream",
     "text": [
      "100%|███████████████████████████████████████████████████████████████████████████████| 20/20 [00:00<00:00, 107408.55it/s]\n"
     ]
    },
    {
     "name": "stdout",
     "output_type": "stream",
     "text": [
      "{'m': 13, 'r': 7692, 'epsilon': 0.165, 'approximate_power': 0.22584484975943758}\n"
     ]
    },
    {
     "name": "stderr",
     "output_type": "stream",
     "text": [
      "100%|███████████████████████████████████████████████████████████████████████████████| 20/20 [00:00<00:00, 107271.20it/s]\n"
     ]
    },
    {
     "name": "stdout",
     "output_type": "stream",
     "text": [
      "{'m': 13, 'r': 15384, 'epsilon': 0.165, 'approximate_power': 0.3344416773843235}\n"
     ]
    },
    {
     "name": "stderr",
     "output_type": "stream",
     "text": [
      "100%|███████████████████████████████████████████████████████████████████████████████| 20/20 [00:00<00:00, 106589.68it/s]\n"
     ]
    },
    {
     "name": "stdout",
     "output_type": "stream",
     "text": [
      "{'m': 16, 'r': 31250, 'epsilon': 0.135, 'approximate_power': 0.45142139590843916}\n"
     ]
    },
    {
     "name": "stderr",
     "output_type": "stream",
     "text": [
      "100%|███████████████████████████████████████████████████████████████████████████████| 23/23 [00:00<00:00, 119540.26it/s]\n"
     ]
    },
    {
     "name": "stdout",
     "output_type": "stream",
     "text": [
      "{'m': 19, 'r': 52631, 'epsilon': 0.115, 'approximate_power': 0.5239676187168765}\n"
     ]
    },
    {
     "name": "stderr",
     "output_type": "stream",
     "text": [
      "100%|███████████████████████████████████████████████████████████████████████████████| 26/26 [00:00<00:00, 116384.10it/s]\n"
     ]
    },
    {
     "name": "stdout",
     "output_type": "stream",
     "text": [
      "{'m': 22, 'r': 90909, 'epsilon': 0.1, 'approximate_power': 0.5872573334370267}\n"
     ]
    },
    {
     "name": "stderr",
     "output_type": "stream",
     "text": [
      "100%|███████████████████████████████████████████████████████████████████████████████| 29/29 [00:00<00:00, 123236.90it/s]\n"
     ]
    },
    {
     "name": "stdout",
     "output_type": "stream",
     "text": [
      "{'m': 26, 'r': 192307, 'epsilon': 0.085, 'approximate_power': 0.6584030484393621}\n"
     ]
    },
    {
     "name": "stderr",
     "output_type": "stream",
     "text": [
      "100%|███████████████████████████████████████████████████████████████████████████████| 33/33 [00:00<00:00, 118300.88it/s]\n"
     ]
    },
    {
     "name": "stdout",
     "output_type": "stream",
     "text": [
      "{'m': 32, 'r': 312500, 'epsilon': 0.07, 'approximate_power': 0.7023007891720131}\n"
     ]
    },
    {
     "name": "stderr",
     "output_type": "stream",
     "text": [
      "100%|███████████████████████████████████████████████████████████████████████████████| 39/39 [00:00<00:00, 123361.88it/s]\n"
     ]
    }
   ],
   "source": [
    "budget_list = np.sort(budget_list)\n",
    "\n",
    "for budget in budget_list:\n",
    "    optimal_test = test_parameters_dict[budget]\n",
    "    r = optimal_test['r']\n",
    "    m = optimal_test['m']\n",
    "\n",
    "    # save_string = f'data/perturbed_motivating_example.json'\n",
    "    if os.path.exists(save_string):\n",
    "        with open(save_string) as f:\n",
    "            result_dict = json.load(f)\n",
    "        completed_augmentation_list = [res['augmentation'] for res in result_dict]\n",
    "    else:\n",
    "        result_dict = []\n",
    "        completed_augmentation_list = []\n",
    "\n",
    "    print(optimal_test)\n",
    "    \n",
    "    for augmentation in tqdm(augmentation_list[:m+1] + additional_augmentations):\n",
    "        if augmentation in completed_augmentation_list:\n",
    "            for i,res in enumerate(result_dict):\n",
    "                if augmentation == res['augmentation']:\n",
    "                    n_completed =  res['response_dict']['0']['yes'] + res['response_dict']['0']['no']\n",
    "                    result_index = i\n",
    "        else:\n",
    "            result_dict.append({})\n",
    "            result_dict[-1]['augmentation'] = augmentation\n",
    "            result_dict[-1]['response_dict'] = {}\n",
    "            result_index=-1\n",
    "            n_completed=0\n",
    "        \n",
    "        message = [\n",
    "                        {\"role\": \"system\", \"content\": system_prompt},\n",
    "                        {\"role\": \"user\", \"content\": augmentation + question}\n",
    "        ]\n",
    "\n",
    "        if r - n_completed <= 0:            \n",
    "            continue\n",
    "\n",
    "        if n_completed < 1000:\n",
    "            continue\n",
    "\n",
    "        print(augmentation, r - n_completed)\n",
    "        \n",
    "        message_list = (r-n_completed)*[message]\n",
    "        outputs = pipeline(message_list, **generation_kwargs)    \n",
    "        result_dict[result_index]['response_dict'] = get_mc_id_to_response_dict(outputs, 1, result_dict[result_index]['response_dict'])\n",
    "        result_dict[result_index]['parameter_dict'] = get_mc_id_to_parameter_dict(result_dict[result_index]['response_dict'])\n",
    "        print(augmentation, result_dict[result_index]['response_dict'])\n",
    "    \n",
    "        # result_dict[setting][-1]['total'] = get_total_count_dict(result_dict[-1]['response_dict'])\n",
    "    \n",
    "        pickle.dump(result_dict, open(save_string, 'wb'))"
   ]
  },
  {
   "cell_type": "code",
   "execution_count": 12,
   "id": "e5fa1f3e-e652-40bb-9ac1-ddf4ca07aa99",
   "metadata": {},
   "outputs": [
    {
     "name": "stderr",
     "output_type": "stream",
     "text": [
      "100%|███████████████████████████████████████████████████████████████████████████████████| 10/10 [00:01<00:00,  7.44it/s]\n",
      "100%|███████████████████████████████████████████████████████████████████████████████████| 10/10 [00:01<00:00,  7.39it/s]\n",
      "100%|███████████████████████████████████████████████████████████████████████████████████| 10/10 [00:01<00:00,  7.32it/s]\n",
      "100%|███████████████████████████████████████████████████████████████████████████████████| 10/10 [00:01<00:00,  7.10it/s]\n",
      "100%|███████████████████████████████████████████████████████████████████████████████████| 10/10 [00:01<00:00,  5.56it/s]\n",
      "100%|███████████████████████████████████████████████████████████████████████████████████| 10/10 [00:02<00:00,  4.40it/s]\n",
      " 30%|█████████████████████████▏                                                          | 3/10 [00:00<00:02,  3.21it/s]\n"
     ]
    },
    {
     "ename": "KeyboardInterrupt",
     "evalue": "",
     "output_type": "error",
     "traceback": [
      "\u001b[31m---------------------------------------------------------------------------\u001b[39m",
      "\u001b[31mKeyboardInterrupt\u001b[39m                         Traceback (most recent call last)",
      "\u001b[36mCell\u001b[39m\u001b[36m \u001b[39m\u001b[32mIn[12]\u001b[39m\u001b[32m, line 52\u001b[39m\n\u001b[32m     49\u001b[39m     \u001b[38;5;28;01mcontinue\u001b[39;00m\n\u001b[32m     51\u001b[39m responses = result[\u001b[33m'\u001b[39m\u001b[33mresponse_dict\u001b[39m\u001b[33m'\u001b[39m][\u001b[32m0\u001b[39m][\u001b[33m'\u001b[39m\u001b[33myes\u001b[39m\u001b[33m'\u001b[39m] * [\u001b[32m1\u001b[39m] + result[\u001b[33m'\u001b[39m\u001b[33mresponse_dict\u001b[39m\u001b[33m'\u001b[39m][\u001b[32m0\u001b[39m][\u001b[33m'\u001b[39m\u001b[33mno\u001b[39m\u001b[33m'\u001b[39m] * [\u001b[32m0\u001b[39m]\n\u001b[32m---> \u001b[39m\u001b[32m52\u001b[39m \u001b[43mnp\u001b[49m\u001b[43m.\u001b[49m\u001b[43mrandom\u001b[49m\u001b[43m.\u001b[49m\u001b[43mshuffle\u001b[49m\u001b[43m(\u001b[49m\u001b[43mresponses\u001b[49m\u001b[43m)\u001b[49m\n\u001b[32m     54\u001b[39m p_hat = np.mean(responses[:r])\n\u001b[32m     55\u001b[39m p_hat_list.append(p_hat)\n",
      "\u001b[31mKeyboardInterrupt\u001b[39m: "
     ]
    }
   ],
   "source": [
    "np.random.seed(1)\n",
    "test_augmentation_list = additional_augmentations + ['random']\n",
    "\n",
    "power_dict = {}\n",
    "\n",
    "n_mc=50\n",
    "\n",
    "for test_augmentation in test_augmentation_list:\n",
    "    power_dict[test_augmentation] = []\n",
    "    for budget in budget_list:\n",
    "        optimal_test = test_parameters_dict[budget]\n",
    "        r = optimal_test['r']\n",
    "        m = optimal_test['m']\n",
    "        epsilon = optimal_test['epsilon']\n",
    "\n",
    "        reject = 0\n",
    "    \n",
    "        for _ in tqdm(range(n_mc)):\n",
    "            p_hat_list = []\n",
    "\n",
    "            if test_augmentation == 'random':\n",
    "                random_null = np.random.choice(result_dict, size=1)[0]\n",
    "                random_null_augmentation = random_null['augmentation']\n",
    "            else:\n",
    "                random_null_augmentation=''\n",
    "    \n",
    "            for result in result_dict:\n",
    "                if result['augmentation'] == test_augmentation:\n",
    "                    responses = result['response_dict'][0]['yes'] * [1] + result['response_dict'][0]['no'] * [0]\n",
    "                    np.random.shuffle(responses)\n",
    "            \n",
    "                    p_hat_test = np.mean(responses[:r])\n",
    "    \n",
    "                    continue\n",
    "\n",
    "                if len(p_hat_list) >= m:\n",
    "                    continue\n",
    "                    \n",
    "                if result['response_dict'][0]['yes'] + result['response_dict'][0]['no'] < r:\n",
    "                    continue\n",
    "\n",
    "                \n",
    "                if result['augmentation'] == random_null_augmentation:\n",
    "                    responses = result['response_dict'][0]['yes'] * [1] + result['response_dict'][0]['no'] * [0]\n",
    "                    np.random.shuffle(responses)\n",
    "            \n",
    "                    p_hat_test = np.mean(responses[:r])\n",
    "\n",
    "                    continue\n",
    "    \n",
    "                responses = result['response_dict'][0]['yes'] * [1] + result['response_dict'][0]['no'] * [0]\n",
    "                np.random.shuffle(responses)\n",
    "    \n",
    "                p_hat = np.mean(responses[:r])\n",
    "                p_hat_list.append(p_hat)\n",
    "           \n",
    "            T = np.min(abs(np.array(p_hat_list) - p_hat_test))\n",
    "            if T > epsilon:\n",
    "                reject += 1\n",
    "                # print('i rejected!')\n",
    "\n",
    "\n",
    "        power_dict[test_augmentation].append(reject / n_mc)"
   ]
  },
  {
   "cell_type": "code",
   "execution_count": 13,
   "id": "863c3d9e-99cb-45d3-ba3d-7468df75f529",
   "metadata": {},
   "outputs": [
    {
     "ename": "ValueError",
     "evalue": "x and y must have same first dimension, but have shapes (9,) and (6,)",
     "output_type": "error",
     "traceback": [
      "\u001b[31m---------------------------------------------------------------------------\u001b[39m",
      "\u001b[31mValueError\u001b[39m                                Traceback (most recent call last)",
      "\u001b[36mCell\u001b[39m\u001b[36m \u001b[39m\u001b[32mIn[13]\u001b[39m\u001b[32m, line 13\u001b[39m\n\u001b[32m     11\u001b[39m     \u001b[38;5;28;01melse\u001b[39;00m:\n\u001b[32m     12\u001b[39m         label=test_augmentation\n\u001b[32m---> \u001b[39m\u001b[32m13\u001b[39m     \u001b[43max\u001b[49m\u001b[43m.\u001b[49m\u001b[43mplot\u001b[49m\u001b[43m(\u001b[49m\u001b[43mbudget_list\u001b[49m\u001b[43m,\u001b[49m\u001b[43m \u001b[49m\u001b[43mpower_dict\u001b[49m\u001b[43m[\u001b[49m\u001b[43mtest_augmentation\u001b[49m\u001b[43m]\u001b[49m\u001b[43m,\u001b[49m\u001b[43m \u001b[49m\u001b[43mlabel\u001b[49m\u001b[43m=\u001b[49m\u001b[43mlabel\u001b[49m\u001b[43m,\u001b[49m\u001b[43m \u001b[49m\u001b[43mlw\u001b[49m\u001b[43m=\u001b[49m\u001b[32;43m3\u001b[39;49m\u001b[43m)\u001b[49m\n\u001b[32m     15\u001b[39m ax.legend(title=\u001b[33mr\u001b[39m\u001b[33m\"\u001b[39m\u001b[33m$q\u001b[39m\u001b[33m'\u001b[39m\u001b[33m$\u001b[39m\u001b[33m\"\u001b[39m)\n",
      "\u001b[36mFile \u001b[39m\u001b[32m~/helivan-project-generation/venvs/helivan/lib/python3.12/site-packages/matplotlib/axes/_axes.py:1777\u001b[39m, in \u001b[36mAxes.plot\u001b[39m\u001b[34m(self, scalex, scaley, data, *args, **kwargs)\u001b[39m\n\u001b[32m   1534\u001b[39m \u001b[38;5;250m\u001b[39m\u001b[33;03m\"\"\"\u001b[39;00m\n\u001b[32m   1535\u001b[39m \u001b[33;03mPlot y versus x as lines and/or markers.\u001b[39;00m\n\u001b[32m   1536\u001b[39m \n\u001b[32m   (...)\u001b[39m\u001b[32m   1774\u001b[39m \u001b[33;03m(``'green'``) or hex strings (``'#008000'``).\u001b[39;00m\n\u001b[32m   1775\u001b[39m \u001b[33;03m\"\"\"\u001b[39;00m\n\u001b[32m   1776\u001b[39m kwargs = cbook.normalize_kwargs(kwargs, mlines.Line2D)\n\u001b[32m-> \u001b[39m\u001b[32m1777\u001b[39m lines = [*\u001b[38;5;28mself\u001b[39m._get_lines(\u001b[38;5;28mself\u001b[39m, *args, data=data, **kwargs)]\n\u001b[32m   1778\u001b[39m \u001b[38;5;28;01mfor\u001b[39;00m line \u001b[38;5;129;01min\u001b[39;00m lines:\n\u001b[32m   1779\u001b[39m     \u001b[38;5;28mself\u001b[39m.add_line(line)\n",
      "\u001b[36mFile \u001b[39m\u001b[32m~/helivan-project-generation/venvs/helivan/lib/python3.12/site-packages/matplotlib/axes/_base.py:297\u001b[39m, in \u001b[36m_process_plot_var_args.__call__\u001b[39m\u001b[34m(self, axes, data, return_kwargs, *args, **kwargs)\u001b[39m\n\u001b[32m    295\u001b[39m     this += args[\u001b[32m0\u001b[39m],\n\u001b[32m    296\u001b[39m     args = args[\u001b[32m1\u001b[39m:]\n\u001b[32m--> \u001b[39m\u001b[32m297\u001b[39m \u001b[38;5;28;01myield from\u001b[39;00m \u001b[38;5;28;43mself\u001b[39;49m\u001b[43m.\u001b[49m\u001b[43m_plot_args\u001b[49m\u001b[43m(\u001b[49m\n\u001b[32m    298\u001b[39m \u001b[43m    \u001b[49m\u001b[43maxes\u001b[49m\u001b[43m,\u001b[49m\u001b[43m \u001b[49m\u001b[43mthis\u001b[49m\u001b[43m,\u001b[49m\u001b[43m \u001b[49m\u001b[43mkwargs\u001b[49m\u001b[43m,\u001b[49m\u001b[43m \u001b[49m\u001b[43mambiguous_fmt_datakey\u001b[49m\u001b[43m=\u001b[49m\u001b[43mambiguous_fmt_datakey\u001b[49m\u001b[43m,\u001b[49m\n\u001b[32m    299\u001b[39m \u001b[43m    \u001b[49m\u001b[43mreturn_kwargs\u001b[49m\u001b[43m=\u001b[49m\u001b[43mreturn_kwargs\u001b[49m\n\u001b[32m    300\u001b[39m \u001b[43m\u001b[49m\u001b[43m)\u001b[49m\n",
      "\u001b[36mFile \u001b[39m\u001b[32m~/helivan-project-generation/venvs/helivan/lib/python3.12/site-packages/matplotlib/axes/_base.py:494\u001b[39m, in \u001b[36m_process_plot_var_args._plot_args\u001b[39m\u001b[34m(self, axes, tup, kwargs, return_kwargs, ambiguous_fmt_datakey)\u001b[39m\n\u001b[32m    491\u001b[39m     axes.yaxis.update_units(y)\n\u001b[32m    493\u001b[39m \u001b[38;5;28;01mif\u001b[39;00m x.shape[\u001b[32m0\u001b[39m] != y.shape[\u001b[32m0\u001b[39m]:\n\u001b[32m--> \u001b[39m\u001b[32m494\u001b[39m     \u001b[38;5;28;01mraise\u001b[39;00m \u001b[38;5;167;01mValueError\u001b[39;00m(\u001b[33mf\u001b[39m\u001b[33m\"\u001b[39m\u001b[33mx and y must have same first dimension, but \u001b[39m\u001b[33m\"\u001b[39m\n\u001b[32m    495\u001b[39m                      \u001b[33mf\u001b[39m\u001b[33m\"\u001b[39m\u001b[33mhave shapes \u001b[39m\u001b[38;5;132;01m{\u001b[39;00mx.shape\u001b[38;5;132;01m}\u001b[39;00m\u001b[33m and \u001b[39m\u001b[38;5;132;01m{\u001b[39;00my.shape\u001b[38;5;132;01m}\u001b[39;00m\u001b[33m\"\u001b[39m)\n\u001b[32m    496\u001b[39m \u001b[38;5;28;01mif\u001b[39;00m x.ndim > \u001b[32m2\u001b[39m \u001b[38;5;129;01mor\u001b[39;00m y.ndim > \u001b[32m2\u001b[39m:\n\u001b[32m    497\u001b[39m     \u001b[38;5;28;01mraise\u001b[39;00m \u001b[38;5;167;01mValueError\u001b[39;00m(\u001b[33mf\u001b[39m\u001b[33m\"\u001b[39m\u001b[33mx and y can be no greater than 2D, but have \u001b[39m\u001b[33m\"\u001b[39m\n\u001b[32m    498\u001b[39m                      \u001b[33mf\u001b[39m\u001b[33m\"\u001b[39m\u001b[33mshapes \u001b[39m\u001b[38;5;132;01m{\u001b[39;00mx.shape\u001b[38;5;132;01m}\u001b[39;00m\u001b[33m and \u001b[39m\u001b[38;5;132;01m{\u001b[39;00my.shape\u001b[38;5;132;01m}\u001b[39;00m\u001b[33m\"\u001b[39m)\n",
      "\u001b[31mValueError\u001b[39m: x and y must have same first dimension, but have shapes (9,) and (6,)"
     ]
    },
    {
     "data": {
      "image/png": "[encoded data removed]",
      "text/plain": [
       "<Figure size 640x480 with 1 Axes>"
      ]
     },
     "metadata": {},
     "output_type": "display_data"
    }
   ],
   "source": [
    "fig, ax = plt.subplots(1,1)\n",
    "ax.set_ylabel(r'$Pr$ [reject]')\n",
    "ax.set_xlabel('Budget')\n",
    "\n",
    "ax.set_title(r'$Pr$ [reject] using corrected test' + '\\n' + r\"($ H_{0}: q' \\in Q_{0} $ vs $ H_{A}: q' \\notin Q_{0} $)\")\n",
    "ax.set_xscale('log')\n",
    "\n",
    "for test_augmentation in test_augmentation_list:\n",
    "    if test_augmentation == 'random':\n",
    "        label=r'randomly sampled query from $ Q_{0} $'\n",
    "    else:\n",
    "        label=test_augmentation\n",
    "    ax.plot(budget_list, power_dict[test_augmentation], label=label, lw=3)\n",
    "\n",
    "ax.legend(title=r\"$q'$\")"
   ]
  },
  {
   "cell_type": "code",
   "execution_count": 14,
   "id": "04fb5439-d522-46cd-be64-d4079937fb66",
   "metadata": {},
   "outputs": [
    {
     "name": "stdout",
     "output_type": "stream",
     "text": [
      "RA Fisher was a statistician. hatp: {0: 0.8702588702588703}\n",
      "\n",
      "R.A. Fisher was a statistician. hatp: {0: 0.9481869481869482}\n",
      "\n",
      "RA Fisher was a eugenicist. hatp: {0: 0.0}\n",
      "\n",
      "R.A. Fisher was a eugenecist. hatp: {0: 0.07971607971607972}\n",
      "\n",
      "RA Fisher was a geneticist. hatp: {0: 0.2922782922782923}\n",
      "\n",
      "R.A. Fisher was a geneticist. hatp: {0: 0.7766767766767767}\n",
      "\n"
     ]
    }
   ],
   "source": [
    "for res in result_dict:\n",
    "    if res['augmentation'] in additional_augmentations:\n",
    "        print(res['augmentation'], f'hatp: {res['parameter_dict']}')\n",
    "        print()"
   ]
  },
  {
   "cell_type": "code",
   "execution_count": 49,
   "id": "297e13b6-ecbb-4e15-8007-b079c786cd21",
   "metadata": {},
   "outputs": [
    {
     "name": "stdout",
     "output_type": "stream",
     "text": [
      "Saved data_list.json ✅\n"
     ]
    }
   ],
   "source": [
    "import json\n",
    "\n",
    "# Save as JSON (bulk export)\n",
    "result_dict = pickle.load(open(\"data/perturbed_motivating_example.p\", 'rb'))\n",
    "with open(\"data/perturbed_motivating_example.json\", \"w\") as f:\n",
    "    json.dump(result_dict, f, indent=2)\n",
    "\n",
    "print(\"Saved data_list.json ✅\")"
   ]
  },
  {
   "cell_type": "code",
   "execution_count": 19,
   "id": "cb7cb431-58c8-4040-a866-183949c0ce3f",
   "metadata": {},
   "outputs": [
    {
     "name": "stdout",
     "output_type": "stream",
     "text": [
      "{'augmentation': 'Prof. Ronald A Fisher   was a mathematician.', 'response_dict': {'0': {'yes': 90, 'no': 10, 'invalid': 0}}, 'parameter_dict': {'0': 0.9}}\n"
     ]
    }
   ],
   "source": [
    "import json\n",
    "\n",
    "with open(\"data/perturbed_motivating_example.json\") as f:\n",
    "    loaded_list = json.load(f)\n",
    "\n",
    "print(loaded_list[0]) "
   ]
  },
  {
   "cell_type": "code",
   "execution_count": null,
   "id": "fb03d26f-aecc-4c55-bcc0-fe8549ec1e2e",
   "metadata": {},
   "outputs": [],
   "source": []
  }
 ],
 "metadata": {
  "kernelspec": {
   "display_name": "helivan",
   "language": "python",
   "name": "helivan"
  },
  "language_info": {
   "codemirror_mode": {
    "name": "ipython",
    "version": 3
   },
   "file_extension": ".py",
   "mimetype": "text/x-python",
   "name": "python",
   "nbconvert_exporter": "python",
   "pygments_lexer": "ipython3",
   "version": "3.12.7"
  }
 },
 "nbformat": 4,
 "nbformat_minor": 5
}
